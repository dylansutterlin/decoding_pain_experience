{
 "cells": [
  {
   "cell_type": "markdown",
   "id": "de33dd0c",
   "metadata": {},
   "source": [
    "# Decoding visualization"
   ]
  },
  {
   "cell_type": "markdown",
   "id": "031852ea",
   "metadata": {},
   "source": [
    "### Load data"
   ]
  },
  {
   "cell_type": "code",
   "execution_count": 4,
   "id": "8d16850c",
   "metadata": {},
   "outputs": [],
   "source": [
    "import os\n",
    "import pickle"
   ]
  },
  {
   "cell_type": "code",
   "execution_count": 5,
   "id": "62569101",
   "metadata": {},
   "outputs": [],
   "source": [
    "res_path = r'C:\\Users\\Dylan\\Desktop\\UM_Bsc_neurocog\\E22\\Projet_Ivado_rainvillelab\\results_decoding\\model_SVC_2folds'"
   ]
  },
  {
   "cell_type": "code",
   "execution_count": 6,
   "id": "982d48c3",
   "metadata": {},
   "outputs": [],
   "source": [
    "os.chdir(res_path)\n",
    "with open('final_results.pickle', 'rb') as handle:\n",
    "        final_results = pickle.load(handle)\n"
   ]
  },
  {
   "cell_type": "code",
   "execution_count": 7,
   "id": "5c90bef0",
   "metadata": {},
   "outputs": [
    {
     "data": {
      "text/plain": [
       "{'df_all_metrics':              accuracy balanced_accuracy precision\n",
       " fold1        0.357143          0.358548  0.357923\n",
       " fold2        0.344907          0.345142  0.348562\n",
       " final_model  0.392233          0.392652  0.394624,\n",
       " 'Y_pred': array([2, 1, 2, 1, 2, 1, 1, 3, 1, 1, 3, 4, 2, 1, 4, 2, 2, 4, 3, 1, 2, 1,\n",
       "        3, 3, 1, 3, 1, 2, 2, 4, 3, 3, 4, 2, 4, 1, 2, 3, 2, 3, 3, 3, 3, 1,\n",
       "        2, 2, 3, 2, 2, 4, 1, 2, 3, 4, 3, 3, 4, 1, 1, 2, 2, 3, 3, 1, 2, 4,\n",
       "        2, 1, 4, 4, 1, 4, 4, 4, 2, 1, 1, 4, 2, 3, 1, 2, 4, 1, 1, 3, 2, 3,\n",
       "        1, 4, 1, 1, 4, 2, 2, 3, 4, 4, 1, 2, 1, 2, 2, 4, 4, 3, 1, 4, 2, 2,\n",
       "        2, 1, 1, 3, 3, 4, 1, 4, 2, 1, 3, 4, 3, 4, 2, 2, 3, 1, 1, 3, 1, 1,\n",
       "        2, 2, 1, 2, 1, 4, 3, 1, 4, 2, 1, 4, 2, 4, 4, 4, 4, 4, 1, 2, 1, 1,\n",
       "        1, 2, 2, 3, 3, 4, 3, 3, 2, 4, 1, 4, 4, 4, 2, 3, 3, 4, 3, 4, 2, 4,\n",
       "        3, 4, 3, 3, 4, 3, 3, 4, 2, 2, 1, 1, 2, 3, 2, 1, 1, 2, 4, 2, 3, 1,\n",
       "        2, 3, 3, 2, 1, 2, 3, 4, 3, 2, 2, 2, 4, 3, 2, 1, 2, 3, 3, 4, 2, 1,\n",
       "        4, 3, 4, 4, 2, 1, 3, 3, 4, 1, 4, 1, 4, 1, 1, 2, 2, 1, 1, 3, 2, 1,\n",
       "        1, 1, 2, 1, 2, 4, 2, 2, 4, 4, 4, 4, 3, 2, 3, 2, 4, 2, 1, 4, 4, 1,\n",
       "        4, 3, 1, 1, 1, 3, 2, 4, 3, 2, 4, 2, 3, 1, 1, 2, 1, 3, 4, 3, 4, 2,\n",
       "        4, 4, 2, 3, 1, 1, 1, 1, 4, 2, 1, 1, 1, 3, 1, 2, 3, 4, 3, 1, 3, 1,\n",
       "        4, 1, 1, 1, 2, 2, 4, 3, 2, 3, 4, 1, 2, 2, 4, 3, 1, 4, 1, 2, 4, 4,\n",
       "        4, 1, 1, 1, 1, 3, 3, 3, 1, 4, 1, 1, 1, 4, 2, 2, 1, 2, 1, 2, 2, 3,\n",
       "        1, 1, 3, 2, 4, 1, 1, 1, 2, 4, 3, 3, 2, 3, 2, 2, 1, 4, 1, 1, 2, 3,\n",
       "        4, 2, 1, 1, 1, 2, 1, 3, 1, 2, 2, 1, 1, 1, 1, 2, 1, 1, 3, 1, 3, 3,\n",
       "        1, 3, 2, 2, 1, 2, 1, 3, 4, 2, 3, 1, 4, 2, 4, 2, 3, 3, 1, 3, 2, 1,\n",
       "        3, 2, 1, 3, 2, 4, 4, 1, 4, 1, 4, 1, 2, 3, 2, 1, 1, 1, 2, 3, 4, 2,\n",
       "        2, 1, 3, 2, 3, 2, 4, 1, 4, 4, 3, 2, 1, 4, 1, 3, 3, 1, 2, 3, 1, 4,\n",
       "        4, 3, 4, 3, 2, 1, 3, 3, 2, 4, 2, 1, 2, 4, 4, 4, 2, 1, 3, 1, 2, 1,\n",
       "        3, 3, 1, 2, 1, 4, 1, 3, 1, 4, 4, 4, 2, 3, 1, 1, 4, 1, 1, 1, 4, 1,\n",
       "        1, 2, 1, 4, 4, 1, 1, 4, 3], dtype=int64),\n",
       " 'Y_score': array([[0.26269812, 0.30862285, 0.18624805, 0.24243098],\n",
       "        [0.35018971, 0.2332618 , 0.21548164, 0.20106686],\n",
       "        [0.29780365, 0.42859699, 0.16143397, 0.11216539],\n",
       "        ...,\n",
       "        [0.34777113, 0.16104641, 0.22413463, 0.26704783],\n",
       "        [0.16237165, 0.10960603, 0.3089422 , 0.41908011],\n",
       "        [0.27496566, 0.24191317, 0.30855022, 0.17457095]]),\n",
       " 'roc_auc_ovo': 0.6845633378052346,\n",
       " 'confusion_matrix': array([[55, 35, 18, 12],\n",
       "        [60, 56, 17, 16],\n",
       "        [20, 22, 39, 36],\n",
       "        [23, 17, 37, 52]], dtype=int64),\n",
       " 'classification_report': '              precision    recall  f1-score   support\\n\\n           1       0.35      0.46      0.40       120\\n           2       0.43      0.38      0.40       149\\n           3       0.35      0.33      0.34       117\\n           4       0.45      0.40      0.42       129\\n\\n    accuracy                           0.39       515\\n   macro avg       0.39      0.39      0.39       515\\nweighted avg       0.40      0.39      0.39       515\\n',\n",
       " 'decision_function': array([[ 0.83743647, -0.24383994,  3.2499924 ,  2.13456328],\n",
       "        [ 0.83378801,  1.89634366,  3.25000099, -0.20282806],\n",
       "        [ 2.10760712,  3.24999221, -0.21416488,  0.79108283],\n",
       "        ...,\n",
       "        [-0.23371399,  0.86715782,  1.92615209,  3.25569204],\n",
       "        [ 1.04162489, -0.21429301,  2.0221581 ,  3.20444761],\n",
       "        [ 2.03674185, -0.21293107,  0.8081768 ,  3.25000335]])}"
      ]
     },
     "execution_count": 7,
     "metadata": {},
     "output_type": "execute_result"
    }
   ],
   "source": [
    "final_results"
   ]
  },
  {
   "cell_type": "code",
   "execution_count": 10,
   "id": "707496c3",
   "metadata": {},
   "outputs": [],
   "source": [
    "classes = ['N_HYPO', 'HYPO', 'N_HYPER', 'HYPER']"
   ]
  },
  {
   "cell_type": "code",
   "execution_count": 11,
   "id": "0c23e7ed",
   "metadata": {},
   "outputs": [
    {
     "data": {
      "image/png": "[encoded data removed]",
      "text/plain": [
       "<Figure size 432x288 with 2 Axes>"
      ]
     },
     "metadata": {
      "needs_background": "light"
     },
     "output_type": "display_data"
    }
   ],
   "source": [
    "from sklearn.metrics import confusion_matrix\n",
    "from sklearn.metrics import confusion_matrix\n",
    "from sklearn.metrics import ConfusionMatrixDisplay\n",
    "\n",
    "cm = final_results['confusion_matrix']\n",
    "#['HYPO_N', 'HYPO', 'HYPER_N', 'HYPER']\n",
    "\n",
    "cm_display = ConfusionMatrixDisplay(cm, display_labels =  classes).plot()"
   ]
  },
  {
   "cell_type": "code",
   "execution_count": 12,
   "id": "5c78e98b",
   "metadata": {},
   "outputs": [
    {
     "data": {
      "text/plain": [
       "'              precision    recall  f1-score   support\\n\\n           1       0.35      0.46      0.40       120\\n           2       0.43      0.38      0.40       149\\n           3       0.35      0.33      0.34       117\\n           4       0.45      0.40      0.42       129\\n\\n    accuracy                           0.39       515\\n   macro avg       0.39      0.39      0.39       515\\nweighted avg       0.40      0.39      0.39       515\\n'"
      ]
     },
     "execution_count": 12,
     "metadata": {},
     "output_type": "execute_result"
    }
   ],
   "source": [
    "final_results['classification_report']"
   ]
  }
 ],
 "metadata": {
  "kernelspec": {
   "display_name": "Python 3 (ipykernel)",
   "language": "python",
   "name": "python3"
  },
  "language_info": {
   "codemirror_mode": {
    "name": "ipython",
    "version": 3
   },
   "file_extension": ".py",
   "mimetype": "text/x-python",
   "name": "python",
   "nbconvert_exporter": "python",
   "pygments_lexer": "ipython3",
   "version": "3.10.1"
  }
 },
 "nbformat": 4,
 "nbformat_minor": 5
}
